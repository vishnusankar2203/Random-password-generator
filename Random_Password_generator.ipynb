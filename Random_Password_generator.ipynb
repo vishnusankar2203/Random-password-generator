{
  "nbformat": 4,
  "nbformat_minor": 0,
  "metadata": {
    "colab": {
      "provenance": [],
      "authorship_tag": "ABX9TyNE1J+NY8DiZ8rgg0tU9TXz",
      "include_colab_link": true
    },
    "kernelspec": {
      "name": "python3",
      "display_name": "Python 3"
    },
    "language_info": {
      "name": "python"
    }
  },
  "cells": [
    {
      "cell_type": "markdown",
      "metadata": {
        "id": "view-in-github",
        "colab_type": "text"
      },
      "source": [
        "<a href=\"https://colab.research.google.com/github/vishnusankar2203/Random-password-generator/blob/main/Random_Password_generator.ipynb\" target=\"_parent\"><img src=\"https://colab.research.google.com/assets/colab-badge.svg\" alt=\"Open In Colab\"/></a>"
      ]
    },
    {
      "cell_type": "code",
      "execution_count": 6,
      "metadata": {
        "colab": {
          "base_uri": "https://localhost:8080/"
        },
        "id": "TKRksOiE2HPl",
        "outputId": "f70bff05-2e79-41b3-b698-32a552b20fce"
      },
      "outputs": [
        {
          "output_type": "stream",
          "name": "stdout",
          "text": [
            "Welcome to the password generator\n",
            "Please enter the number of passwords to be generated: 10\n",
            "Please enter the length of the password needed: 8\n",
            "Here are your random passwords: \n",
            "f5eV9MUn\n",
            "s6hVR%7B\n",
            "F%L!Z6Zp\n",
            "TkBL3j#3\n",
            "CDcOY#vt\n",
            "tM%RlsEt\n",
            "416Li^gy\n",
            "6XGk73sB\n",
            "htcED9Vt\n",
            "Mv%Qw7wy\n"
          ]
        }
      ],
      "source": [
        "import random\n",
        "\n",
        "print(\"Welcome to the password generator\")\n",
        "randomchars = \"ABCDEFGHIJKLMHOPQRSTUVWXYZabcdefghijklmnopqrstuvwxyz1234567890!@#$%^&\"\n",
        "nbrofpwds = int(input(\"Please enter the number of passwords to be generated: \"))  # Convert input to integer\n",
        "pwdlen = int(input(\"Please enter the length of the password needed: \"))\n",
        "\n",
        "print(\"Here are your random passwords: \")\n",
        "for x in range(nbrofpwds):  # Use nbrofpwds as an integer\n",
        "    pwd = \"\"\n",
        "    for chars in range(pwdlen):\n",
        "        pwd += random.choice(randomchars)\n",
        "    print(pwd)\n"
      ]
    }
  ]
}